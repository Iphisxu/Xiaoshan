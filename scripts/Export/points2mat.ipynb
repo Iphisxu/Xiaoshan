{
 "cells": [
  {
   "attachments": {},
   "cell_type": "markdown",
   "metadata": {},
   "source": [
    "# 根据要求导出`WRF-CMAQ`模拟数据\n",
    "2、\t四个国控点的数据。各指标如O3浓度、PM2.5浓度、NO2浓度、各过程贡献、各来源贡献和敏感性指标（HNO3/H2O2比值）的时间序列，可以存成一个excel表格，例如第一列是时间（小时），第二列是O3浓度，第三列….。\n",
    "\n",
    "---\n",
    "*@author: Evan*\\\n",
    "*@date: 2023-07-12*"
   ]
  },
  {
   "cell_type": "code",
   "execution_count": 1,
   "metadata": {},
   "outputs": [],
   "source": [
    "import xarray as xr\n",
    "import numpy as np\n",
    "import pandas as pd\n",
    "from scipy.io import savemat\n",
    "\n",
    "# silence the warning note\n",
    "import warnings\n",
    "warnings.filterwarnings(\"ignore\")\n",
    "\n",
    "import sys\n",
    "sys.path.append('../../src/')\n",
    "from findpoint import findpoint\n",
    "import ModelEvaLib as me\n",
    "from namelist import *"
   ]
  },
  {
   "cell_type": "code",
   "execution_count": 2,
   "metadata": {},
   "outputs": [],
   "source": [
    "chem = xr.open_dataset(cmaqfile)\n",
    "met = xr.open_dataset(mcipfile)\n",
    "pa = xr.open_dataset(pafile)\n",
    "isam = xr.open_dataset(isamfile)"
   ]
  },
  {
   "cell_type": "code",
   "execution_count": 3,
   "metadata": {},
   "outputs": [],
   "source": [
    "lat = chem.latitude\n",
    "lon = chem.longitude\n",
    "\n",
    "ncfile = chem.O3\n",
    "\n",
    "nlevel = 21\n",
    "O3   = chem.O3[:,:nlevel,:,:]\n",
    "NO2  = chem.NO2[:,:nlevel,:,:]\n",
    "PM25 = chem.PM25[:,:nlevel,:,:]\n",
    "ht   = chem.HT[:,:nlevel,:,:]\n",
    "\n",
    "HADV = pa.HADV_O3[:,:nlevel,:,:]\n",
    "ZADV = pa.ZADV_O3[:,:nlevel,:,:]\n",
    "HDIF = pa.HDIF_O3[:,:nlevel,:,:]\n",
    "VDIF = pa.VDIF_O3[:,:nlevel,:,:]\n",
    "DDEP = pa.DDEP_O3[:,:nlevel,:,:]\n",
    "CHEM = pa.CHEM_O3[:,:nlevel,:,:]\n",
    "\n",
    "O3_Nor = isam.O3_Nor[:,:nlevel,:,:]\n",
    "O3_NW  = isam.O3_NW[:,:nlevel,:,:]\n",
    "O3_FY  = isam.O3_FY[:,:nlevel,:,:]\n",
    "O3_SE  = isam.O3_SE[:,:nlevel,:,:]\n",
    "O3_XS  = isam.O3_XS[:,:nlevel,:,:]\n",
    "O3_XSI = isam.O3_XSI[:,:nlevel,:,:]\n",
    "O3_XSP = isam.O3_XSP[:,:nlevel,:,:]\n",
    "O3_XST = isam.O3_XST[:,:nlevel,:,:]\n",
    "O3_XSR = isam.O3_XSR[:,:nlevel,:,:]\n",
    "O3_XSS = isam.O3_XSS[:,:nlevel,:,:]\n",
    "O3_OTH = isam.O3_OTH[:,:nlevel,:,:]\n",
    "O3_BCO = isam.O3_BCO[:,:nlevel,:,:]\n",
    "O3_ICO = isam.O3_ICO[:,:nlevel,:,:]\n",
    "\n",
    "HNO3 = pa.HNO3prod[:,:nlevel,:,:]\n",
    "H2O2 = pa.H2O2prod[:,:nlevel,:,:]\n",
    "\n",
    "u = met.uwind[:,:nlevel,:,:]\n",
    "v = met.vwind[:,:nlevel,:,:]\n",
    "w = chem.wwind[:,:nlevel,:,:]"
   ]
  },
  {
   "cell_type": "code",
   "execution_count": 22,
   "metadata": {},
   "outputs": [
    {
     "name": "stdout",
     "output_type": "stream",
     "text": [
      "120.30536\n",
      "30.194763\n"
     ]
    },
    {
     "data": {
      "text/plain": [
       "站点\n",
       "滨江          120.2072\n",
       "西溪          120.0633\n",
       "千岛湖(对照点)    119.0260\n",
       "下沙          120.3461\n",
       "卧龙桥         120.1269\n",
       "浙江农大        120.1903\n",
       "朝晖五区        120.1570\n",
       "和睦小学        120.1197\n",
       "临平镇         120.3019\n",
       "城厢镇         120.2697\n",
       "云栖          120.0883\n",
       "镇二中         119.9464\n",
       "市府大楼        119.7183\n",
       "消防大队        120.1556\n",
       "Name: 经度, dtype: float64"
      ]
     },
     "execution_count": 22,
     "metadata": {},
     "output_type": "execute_result"
    }
   ],
   "source": [
    "siteloc = pd.read_excel('D:/data/Project_Xiaoshan/杭州站点.xlsx',header=0,index_col=1)\n",
    "\n",
    "# 城厢镇点位\n",
    "test = chem.O3[:,:,72,74]\n",
    "\n",
    "print(test.longitude.values)\n",
    "print(test.latitude.values)\n",
    "\n",
    "sites = siteloc.index\n",
    "lono = siteloc['经度']\n",
    "lato = siteloc['纬度']\n",
    "\n",
    "lono"
   ]
  },
  {
   "cell_type": "code",
   "execution_count": 23,
   "metadata": {},
   "outputs": [],
   "source": [
    "x_index=[]\n",
    "y_index=[]\n",
    "\n",
    "for name in sites:\n",
    "    out_x, out_y = findpoint(lono[name],lato[name],ncfile)\n",
    "    x_index.append(out_x)\n",
    "    y_index.append(out_y)\n",
    "O3_sel = O3.isel(x=x_index, y=y_index)\n",
    "NO2_sel  = NO2.isel(x=x_index, y=y_index)\n",
    "PM25_sel = PM25.isel(x=x_index, y=y_index)\n",
    "htsel    = ht.isel(x=x_index, y=y_index)\n",
    "\n",
    "HADV_sel  = HADV.isel(x=x_index, y=y_index)\n",
    "ZADV_sel  = ZADV.isel(x=x_index, y=y_index)\n",
    "HDIF_sel  = HDIF.isel(x=x_index, y=y_index)\n",
    "VDIF_sel  = VDIF.isel(x=x_index, y=y_index)\n",
    "DDEP_sel  = DDEP.isel(x=x_index, y=y_index)\n",
    "CHEM_sel  = CHEM.isel(x=x_index, y=y_index)\n",
    "\n",
    "HNO3_sel = HNO3.isel(x=x_index, y=y_index)\n",
    "H2O2_sel = H2O2.isel(x=x_index, y=y_index)\n",
    "\n",
    "O3Nor_sel = O3_Nor.isel(x=x_index, y=y_index)\n",
    "O3NW_sel = O3_NW.isel(x=x_index, y=y_index)\n",
    "O3FY_sel = O3_FY.isel(x=x_index, y=y_index)\n",
    "O3SE_sel = O3_SE.isel(x=x_index, y=y_index)\n",
    "O3XS_sel = O3_XS.isel(x=x_index, y=y_index)\n",
    "O3XSI_sel = O3_XSI.isel(x=x_index, y=y_index)\n",
    "O3XSP_sel = O3_XSP.isel(x=x_index, y=y_index)\n",
    "O3XST_sel = O3_XST.isel(x=x_index, y=y_index)\n",
    "O3XSR_sel = O3_XSR.isel(x=x_index, y=y_index)\n",
    "O3XSS_sel = O3_XSS.isel(x=x_index, y=y_index)\n",
    "O3OTH_sel = O3_OTH.isel(x=x_index, y=y_index)\n",
    "O3ICO_sel = O3_ICO.isel(x=x_index, y=y_index)\n",
    "O3BCO_sel = O3_BCO.isel(x=x_index, y=y_index)\n",
    "\n",
    "HNO3_sel = HNO3.isel(x=x_index, y=y_index)\n",
    "H2O2_sel = H2O2.isel(x=x_index, y=y_index)\n",
    "\n",
    "u_sel = u.isel(x=x_index, y=y_index)\n",
    "v_sel = v.isel(x=x_index, y=y_index)\n",
    "w_sel = w.isel(x=x_index, y=y_index)"
   ]
  },
  {
   "cell_type": "code",
   "execution_count": 24,
   "metadata": {},
   "outputs": [],
   "source": [
    "diag_O3   = np.diagonal(O3_sel, axis1=2, axis2=3)\n",
    "diag_NO2  = np.diagonal(NO2_sel, axis1=2, axis2=3)\n",
    "diag_PM25 = np.diagonal(PM25_sel, axis1=2, axis2=3)\n",
    "diag_ht   = np.diagonal(htsel, axis1=2, axis2=3)"
   ]
  },
  {
   "cell_type": "code",
   "execution_count": 25,
   "metadata": {},
   "outputs": [],
   "source": [
    "diag_HADV  = np.diagonal(HADV_sel, axis1=2, axis2=3)\n",
    "diag_ZADV  = np.diagonal(ZADV_sel, axis1=2, axis2=3)\n",
    "diag_HDIF  = np.diagonal(HDIF_sel, axis1=2, axis2=3)\n",
    "diag_VDIF  = np.diagonal(VDIF_sel, axis1=2, axis2=3)\n",
    "diag_DDEP  = np.diagonal(DDEP_sel, axis1=2, axis2=3)\n",
    "diag_CHEM  = np.diagonal(CHEM_sel, axis1=2, axis2=3)"
   ]
  },
  {
   "cell_type": "code",
   "execution_count": 26,
   "metadata": {},
   "outputs": [],
   "source": [
    "diag_O3Nor = np.diagonal(O3Nor_sel,axis1=2,axis2=3)\n",
    "diag_O3NW  = np.diagonal(O3NW_sel,axis1=2,axis2=3)\n",
    "diag_O3FY  = np.diagonal(O3FY_sel,axis1=2,axis2=3)\n",
    "diag_O3SE  = np.diagonal(O3SE_sel,axis1=2,axis2=3)\n",
    "diag_O3XS  = np.diagonal(O3XS_sel,axis1=2,axis2=3)\n",
    "diag_O3XSI = np.diagonal(O3XSI_sel,axis1=2,axis2=3)\n",
    "diag_O3XSP = np.diagonal(O3XSP_sel,axis1=2,axis2=3)\n",
    "diag_O3XST = np.diagonal(O3XST_sel,axis1=2,axis2=3)\n",
    "diag_O3XSR = np.diagonal(O3XSR_sel,axis1=2,axis2=3)\n",
    "diag_O3XSS = np.diagonal(O3XSS_sel,axis1=2,axis2=3)\n",
    "diag_O3OTH = np.diagonal(O3OTH_sel,axis1=2,axis2=3)\n",
    "diag_O3ICO = np.diagonal(O3ICO_sel,axis1=2,axis2=3)\n",
    "diag_O3BCO = np.diagonal(O3BCO_sel,axis1=2,axis2=3)"
   ]
  },
  {
   "cell_type": "code",
   "execution_count": 27,
   "metadata": {},
   "outputs": [],
   "source": [
    "diag_HNO3 = np.diagonal(HNO3_sel, axis1=2, axis2=3)\n",
    "diag_H2O2 = np.diagonal(H2O2_sel, axis1=2, axis2=3)\n",
    "\n",
    "Sens = diag_H2O2/diag_HNO3"
   ]
  },
  {
   "cell_type": "code",
   "execution_count": 28,
   "metadata": {},
   "outputs": [],
   "source": [
    "diag_u = np.diagonal(u_sel, axis1=2, axis2=3)\n",
    "diag_v = np.diagonal(v_sel, axis1=2, axis2=3)\n",
    "diag_w = np.diagonal(w_sel, axis1=2, axis2=3)"
   ]
  },
  {
   "cell_type": "code",
   "execution_count": 29,
   "metadata": {},
   "outputs": [],
   "source": [
    "savemat(\n",
    "    'D:/Download/XS2209_sites.mat',\n",
    "    {\n",
    "    'height':diag_ht,\n",
    "    'O3':diag_O3,\n",
    "    'NO2':diag_NO2,\n",
    "    'PM25':diag_PM25,\n",
    "    'HADV':diag_HADV,\n",
    "    'ZADV':diag_ZADV,\n",
    "    'HDIF':diag_HDIF,\n",
    "    'VDIF':diag_VDIF,\n",
    "    'DDEP':diag_DDEP,\n",
    "    'CHEM':diag_CHEM,\n",
    "    'O3_Nor':diag_O3Nor,\n",
    "    'O3_NW':diag_O3NW,\n",
    "    'O3_FY':diag_O3FY,\n",
    "    'O3_SE':diag_O3SE,\n",
    "    'O3_XS':diag_O3XS,\n",
    "    'O3_XSI':diag_O3XSI,\n",
    "    'O3_XSP':diag_O3XSP,\n",
    "    'O3_XST':diag_O3XST,\n",
    "    'O3_XSR':diag_O3XSR,\n",
    "    'O3_XSS':diag_O3XSS,\n",
    "    'O3_OTH':diag_O3OTH,\n",
    "    'O3_BCO':diag_O3BCO,\n",
    "    'O3_ICO':diag_O3ICO,\n",
    "    'Sensitivity':Sens,\n",
    "    'u':diag_u,\n",
    "    'v':diag_v,\n",
    "    'w':diag_w,\n",
    "    }\n",
    "    )"
   ]
  }
 ],
 "metadata": {
  "kernelspec": {
   "display_name": "base",
   "language": "python",
   "name": "python3"
  },
  "language_info": {
   "codemirror_mode": {
    "name": "ipython",
    "version": 3
   },
   "file_extension": ".py",
   "mimetype": "text/x-python",
   "name": "python",
   "nbconvert_exporter": "python",
   "pygments_lexer": "ipython3",
   "version": "3.10.12"
  },
  "orig_nbformat": 4
 },
 "nbformat": 4,
 "nbformat_minor": 2
}
