{
 "cells": [
  {
   "attachments": {},
   "cell_type": "markdown",
   "metadata": {},
   "source": [
    "# 杭州萧山区项目`WRF-CMAQ`模拟分析\n",
    "## 模拟结果分析：*`Process Analysis`*\n",
    "\n",
    "---\n",
    "*@author: Evan*\\\n",
    "*@date: 2023-07-13*"
   ]
  },
  {
   "cell_type": "code",
   "execution_count": 1,
   "metadata": {},
   "outputs": [],
   "source": [
    "import xarray as xr\n",
    "import numpy as np\n",
    "import pandas as pd\n",
    "import matplotlib.pyplot as plt\n",
    "import os\n",
    "\n",
    "from matplotlib import rcParams\n",
    "config = {\n",
    "    \"font.family\":'Times New Roman',\n",
    "    \"mathtext.fontset\":'stix',\n",
    "    \"font.serif\": ['SimSun'],\n",
    "}\n",
    "rcParams.update(config)\n",
    "\n",
    "# silence the warning note\n",
    "import warnings\n",
    "warnings.filterwarnings(\"ignore\")\n",
    "\n",
    "import sys\n",
    "sys.path.append('../../src/')\n",
    "from findpoint import findpoint\n",
    "import ModelEvaLib as me\n",
    "from namelist import *"
   ]
  },
  {
   "attachments": {},
   "cell_type": "markdown",
   "metadata": {},
   "source": [
    "## 读取数据"
   ]
  },
  {
   "cell_type": "code",
   "execution_count": 2,
   "metadata": {},
   "outputs": [],
   "source": [
    "pa = xr.open_dataset(pafile)\n",
    "\n",
    "ncfile = pa.HADV_O3\n",
    "HADV   = pa.HADV_O3\n",
    "ZADV   = pa.ZADV_O3\n",
    "HDIF   = pa.HDIF_O3\n",
    "VDIF   = pa.VDIF_O3\n",
    "DDEP   = pa.DDEP_O3\n",
    "CHEM   = pa.CHEM_O3"
   ]
  },
  {
   "cell_type": "code",
   "execution_count": 5,
   "metadata": {},
   "outputs": [
    {
     "name": "stdout",
     "output_type": "stream",
     "text": [
      "站点\n",
      "滨江          120.2072\n",
      "西溪          120.0633\n",
      "千岛湖(对照点)    119.0260\n",
      "下沙          120.3461\n",
      "卧龙桥         120.1269\n",
      "浙江农大        120.1903\n",
      "朝晖五区        120.1570\n",
      "和睦小学        120.1197\n",
      "临平镇         120.3019\n",
      "城厢镇         120.2697\n",
      "云栖          120.0883\n",
      "镇二中         119.9464\n",
      "市府大楼        119.7183\n",
      "消防大队        120.1556\n",
      "Name: 经度, dtype: float64 \n",
      " 站点\n",
      "滨江          30.2111\n",
      "西溪          30.2747\n",
      "千岛湖(对照点)    29.6350\n",
      "下沙          30.3153\n",
      "卧龙桥         30.2456\n",
      "浙江农大        30.2692\n",
      "朝晖五区        30.2897\n",
      "和睦小学        30.3119\n",
      "临平镇         30.4183\n",
      "城厢镇         30.1819\n",
      "云栖          30.1808\n",
      "镇二中         30.0494\n",
      "市府大楼        30.2367\n",
      "消防大队        30.2864\n",
      "Name: 纬度, dtype: float64\n"
     ]
    }
   ],
   "source": [
    "siteloc = pd.read_excel('D:/data/Project_Xiaoshan/杭州站点.xlsx',header=0,index_col=1)\n",
    "\n",
    "sites = siteloc.index\n",
    "\n",
    "lono = siteloc['经度']\n",
    "lato = siteloc['纬度']\n",
    "\n",
    "print(lono,'\\n',lato)"
   ]
  },
  {
   "cell_type": "code",
   "execution_count": 6,
   "metadata": {},
   "outputs": [
    {
     "name": "stdout",
     "output_type": "stream",
     "text": [
      "[71, 66, 35, 75, 68, 70, 69, 68, 73, 73, 67, 63, 56, 69]\n",
      "[72, 75, 50, 76, 74, 75, 75, 76, 80, 71, 71, 66, 73, 75]\n"
     ]
    }
   ],
   "source": [
    "x_index=[]\n",
    "y_index=[]\n",
    "for name in sites:\n",
    "    out_x, out_y = findpoint(lono[name],lato[name],ncfile)\n",
    "    x_index.append(out_x)\n",
    "    y_index.append(out_y)\n",
    "\n",
    "print(x_index)\n",
    "print(y_index)"
   ]
  },
  {
   "attachments": {},
   "cell_type": "markdown",
   "metadata": {},
   "source": [
    "# Loop start from here"
   ]
  },
  {
   "cell_type": "code",
   "execution_count": 12,
   "metadata": {},
   "outputs": [
    {
     "name": "stdout",
     "output_type": "stream",
     "text": [
      "saving 滨江\n",
      "saving 西溪\n",
      "saving 千岛湖(对照点)\n",
      "saving 下沙\n",
      "saving 卧龙桥\n",
      "saving 浙江农大\n",
      "saving 朝晖五区\n",
      "saving 和睦小学\n",
      "saving 临平镇\n",
      "saving 城厢镇\n",
      "saving 云栖\n",
      "saving 镇二中\n",
      "saving 市府大楼\n",
      "saving 消防大队\n"
     ]
    }
   ],
   "source": [
    "# =============================================\n",
    "# Start to loop here \n",
    "# =============================================\n",
    "\n",
    "for i in range(14):\n",
    "\n",
    "    HADV_sel = HADV.isel(x=x_index[i], y=y_index[i])\n",
    "    ZADV_sel = ZADV.isel(x=x_index[i], y=y_index[i])\n",
    "    HDIF_sel = HDIF.isel(x=x_index[i], y=y_index[i])\n",
    "    VDIF_sel = VDIF.isel(x=x_index[i], y=y_index[i])\n",
    "    CHEM_sel = CHEM.isel(x=x_index[i], y=y_index[i])\n",
    "    DDEP_sel = DDEP.isel(x=x_index[i], y=y_index[i])\n",
    "\n",
    "    nlevel   = 28\n",
    "    datadict = {}\n",
    "    outdict  = {}\n",
    "    vars     = ['HADV','ZADV','HDIF','VDIF','CHEM','DDEP']\n",
    "\n",
    "    for var in vars:\n",
    "        datadict[f\"{var}_mean\"] = np.mean(np.array(locals()[f\"{var}_sel\"][:,:nlevel]),0)\n",
    "        outdict[f\"{var}_pos\"] = np.maximum(0,datadict[f\"{var}_mean\"])\n",
    "        outdict[f\"{var}_neg\"] = np.minimum(0,datadict[f\"{var}_mean\"])\n",
    "\n",
    "    # =============================================\n",
    "    # plot figures\n",
    "    # =============================================\n",
    "\n",
    "    h   = np.arange(0,28)\n",
    "\n",
    "    edgec      = 'white'\n",
    "    color_hadv = '#4994c4'\n",
    "    color_zadv = '#a8b092'\n",
    "    color_hdif = '#00cca6'\n",
    "    color_vdif = '#e5a84b'\n",
    "    color_chem = '#e2a2ac'\n",
    "    color_ddep = '#ad7761'\n",
    "\n",
    "    fig = plt.figure(figsize=(8,6),dpi=300)\n",
    "    ax  = fig.subplots(1,1)\n",
    "\n",
    "    b1=ax.barh(h,outdict['HADV_pos'],color=color_hadv,height=1,edgecolor=edgec)\n",
    "    ax.barh(h,outdict['HADV_neg'],color=color_hadv,height=1,edgecolor=edgec)\n",
    "\n",
    "    b2=ax.barh(h,outdict['ZADV_pos'],color=color_zadv,left=outdict['HADV_pos'],height=1,edgecolor=edgec)\n",
    "    ax.barh(h,outdict['ZADV_neg'],color=color_zadv,left=outdict['HADV_neg'],height=1,edgecolor=edgec)\n",
    "\n",
    "    b3=ax.barh(h,outdict['HDIF_pos'],color=color_hdif,left=outdict['HADV_pos']+outdict['ZADV_pos'],height=1,edgecolor=edgec)\n",
    "    ax.barh(h,outdict['HDIF_neg'],color=color_hdif,left=outdict['HADV_neg']+outdict['ZADV_neg'],height=1,edgecolor=edgec)\n",
    "\n",
    "    b4=ax.barh(h,outdict['VDIF_pos'],color=color_vdif,left=outdict['HADV_pos']+outdict['ZADV_pos']+outdict['HDIF_pos'],height=1,edgecolor=edgec)\n",
    "    ax.barh(h,outdict['VDIF_neg'],color=color_vdif,left=outdict['HADV_neg']+outdict['ZADV_neg']+outdict['HDIF_neg'],height=1,edgecolor=edgec)\n",
    "\n",
    "    b5=ax.barh(h,outdict['CHEM_pos'],color=color_chem,left=outdict['HADV_pos']+outdict['ZADV_pos']+outdict['VDIF_pos']+outdict['HDIF_pos'],\n",
    "                height=1,edgecolor=edgec)\n",
    "    ax.barh(h,outdict['CHEM_neg'],color=color_chem,left=outdict['HADV_neg']+outdict['ZADV_neg']+outdict['VDIF_neg']+outdict['HDIF_neg'],\n",
    "                height=1,edgecolor=edgec)\n",
    "\n",
    "    b6=ax.barh(h,outdict['DDEP_pos'],color=color_ddep,left=outdict['HADV_pos']+outdict['ZADV_pos']+outdict['VDIF_pos']+outdict['HDIF_pos']+outdict['CHEM_pos'],\n",
    "                height=1,edgecolor=edgec)\n",
    "    ax.barh(h,outdict['DDEP_neg'],color=color_ddep,left=outdict['HADV_neg']+outdict['ZADV_neg']+outdict['VDIF_neg']+outdict['HDIF_neg']+outdict['CHEM_neg'],\n",
    "                height=1,edgecolor=edgec)\n",
    "\n",
    "    ax.set_xlim(-240,240)\n",
    "    ax.set_ylim(-0.5,27)\n",
    "    ax.set_xlabel('Concentration ($\\mu$$g$/$m^3$)')\n",
    "    ax.set_ylabel('Height (m)')\n",
    "    ax.set_xticks(np.arange(-240,241,80))\n",
    "    ax.set_yticks(np.arange(0,28,3))\n",
    "    ax.set_yticklabels(['30','100','200','300','500','900','1500','2500','4000','6000'])\n",
    "    # ax.set_yticklabels(['1000','993','985','972','950','916','850','770','660','520'])\n",
    "\n",
    "    ax.legend((b5,b1,b2,b3,b4,b6),('CHEM','HADV','ZADV','HDIF','VDIF','DDEP'),bbox_to_anchor=(0.99,-0.1),ncol=6)\n",
    "    # ax.legend((b5,b1,b2,b3,b4,b6),('CHEM','HADV','ZADV','HDIF','VDIF','DDEP'),loc=2)\n",
    "    ax.set_title(sites[i],fontdict={'family':'SimSun','size':16})\n",
    "    \n",
    "    savepath = '../../figures/PA/IPR/sites/'\n",
    "    plt.savefig(savepath + str(sites[i]) + '.png')\n",
    "    print('saving ' + str(sites[i]))\n",
    "    plt.close()"
   ]
  }
 ],
 "metadata": {
  "kernelspec": {
   "display_name": "Python 3.8.8 ('base')",
   "language": "python",
   "name": "python3"
  },
  "language_info": {
   "codemirror_mode": {
    "name": "ipython",
    "version": 3
   },
   "file_extension": ".py",
   "mimetype": "text/x-python",
   "name": "python",
   "nbconvert_exporter": "python",
   "pygments_lexer": "ipython3",
   "version": "3.10.12"
  },
  "orig_nbformat": 4,
  "vscode": {
   "interpreter": {
    "hash": "205329d70d8b0adec7a60b133e8ace2c15b184f0945086327eda5948f641f23f"
   }
  }
 },
 "nbformat": 4,
 "nbformat_minor": 2
}
